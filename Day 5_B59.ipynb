{
 "cells": [
  {
   "cell_type": "code",
   "execution_count": 1,
   "id": "41758c2f",
   "metadata": {},
   "outputs": [],
   "source": [
    "# Organising LIST Data types:\n",
    "# req: How to arrange the given LIST in alphabetical order? A - Z\n",
    "# There are 2 approaches: \n",
    "  1. Temporary approach: method is \" sorted\" . Using this method we can retain the original order. \n",
    "  2. Permanant approach: method is \"sort\". Using this method we c an sort the list of elements permanantly.        "
   ]
  },
  {
   "cell_type": "code",
   "execution_count": 4,
   "id": "1308fea8",
   "metadata": {},
   "outputs": [
    {
     "name": "stdout",
     "output_type": "stream",
     "text": [
      "['Ciaz', 'Suzuki', 'Audi', 'Bmw', 'Benz']\n"
     ]
    }
   ],
   "source": [
    "# Temporary approach:\n",
    "cars = ['Ciaz', 'Suzuki', 'Audi', 'Bmw', \"Benz\"]\n",
    "print(cars)"
   ]
  },
  {
   "cell_type": "code",
   "execution_count": 5,
   "id": "f5b3c2ed",
   "metadata": {},
   "outputs": [
    {
     "name": "stdout",
     "output_type": "stream",
     "text": [
      "['Audi', 'Benz', 'Bmw', 'Ciaz', 'Suzuki']\n"
     ]
    }
   ],
   "source": [
    "print(sorted(cars))"
   ]
  },
  {
   "cell_type": "code",
   "execution_count": 6,
   "id": "f0850951",
   "metadata": {},
   "outputs": [
    {
     "name": "stdout",
     "output_type": "stream",
     "text": [
      "['Ciaz', 'Suzuki', 'Audi', 'Bmw', 'Benz']\n"
     ]
    }
   ],
   "source": [
    "print(cars)"
   ]
  },
  {
   "cell_type": "code",
   "execution_count": 7,
   "id": "d184c3ef",
   "metadata": {},
   "outputs": [
    {
     "name": "stdout",
     "output_type": "stream",
     "text": [
      "['Audi', 'Benz', 'Bmw', 'Ciaz', 'Suzuki']\n"
     ]
    }
   ],
   "source": [
    "# Permanant approach:\n",
    "cars.sort()\n",
    "print(cars)"
   ]
  },
  {
   "cell_type": "code",
   "execution_count": 8,
   "id": "e435409d",
   "metadata": {},
   "outputs": [
    {
     "name": "stdout",
     "output_type": "stream",
     "text": [
      "['Audi', 'Benz', 'Bmw', 'Ciaz', 'Suzuki']\n"
     ]
    }
   ],
   "source": [
    "print(cars)"
   ]
  },
  {
   "cell_type": "code",
   "execution_count": null,
   "id": "4a8f1938",
   "metadata": {},
   "outputs": [],
   "source": []
  },
  {
   "cell_type": "code",
   "execution_count": null,
   "id": "437fc83e",
   "metadata": {},
   "outputs": [],
   "source": [
    "# Req: How to sort in reverse order? \n",
    "Method: reverse"
   ]
  },
  {
   "cell_type": "code",
   "execution_count": 9,
   "id": "7b5f7364",
   "metadata": {},
   "outputs": [
    {
     "name": "stdout",
     "output_type": "stream",
     "text": [
      "['Suzuki', 'Ciaz', 'Bmw', 'Benz', 'Audi']\n"
     ]
    }
   ],
   "source": [
    "cars.reverse()\n",
    "print(cars)"
   ]
  },
  {
   "cell_type": "code",
   "execution_count": null,
   "id": "6f085a11",
   "metadata": {},
   "outputs": [],
   "source": []
  },
  {
   "cell_type": "code",
   "execution_count": null,
   "id": "8f0c0957",
   "metadata": {},
   "outputs": [],
   "source": [
    "# Req: How to count the  number of elements in a List? \n",
    "Method: len"
   ]
  },
  {
   "cell_type": "code",
   "execution_count": 10,
   "id": "086ff278",
   "metadata": {},
   "outputs": [
    {
     "data": {
      "text/plain": [
       "5"
      ]
     },
     "execution_count": 10,
     "metadata": {},
     "output_type": "execute_result"
    }
   ],
   "source": [
    "len(cars)"
   ]
  },
  {
   "cell_type": "code",
   "execution_count": null,
   "id": "2975a370",
   "metadata": {},
   "outputs": [],
   "source": []
  },
  {
   "cell_type": "code",
   "execution_count": null,
   "id": "bc457798",
   "metadata": {},
   "outputs": [],
   "source": [
    "# SLICING of the LIST Data types"
   ]
  },
  {
   "cell_type": "code",
   "execution_count": null,
   "id": "3540954d",
   "metadata": {},
   "outputs": [],
   "source": [
    "# Syntax: print(list[start value: stop value: step count])"
   ]
  },
  {
   "cell_type": "code",
   "execution_count": null,
   "id": "94fee000",
   "metadata": {},
   "outputs": [],
   "source": [
    "# Req: How to include 'Ciaz' and 'Bmw' in the above list?"
   ]
  },
  {
   "cell_type": "code",
   "execution_count": 13,
   "id": "2ffca36a",
   "metadata": {},
   "outputs": [
    {
     "name": "stdout",
     "output_type": "stream",
     "text": [
      "['Ciaz']\n"
     ]
    }
   ],
   "source": [
    "print(cars[1:2])    # does not include Bmw as it is the stop value. "
   ]
  },
  {
   "cell_type": "code",
   "execution_count": 14,
   "id": "00a2fcc0",
   "metadata": {},
   "outputs": [
    {
     "name": "stdout",
     "output_type": "stream",
     "text": [
      "['Ciaz', 'Bmw']\n"
     ]
    }
   ],
   "source": [
    "print(cars[1:3])   "
   ]
  },
  {
   "cell_type": "code",
   "execution_count": 15,
   "id": "338fe9d3",
   "metadata": {},
   "outputs": [
    {
     "name": "stdout",
     "output_type": "stream",
     "text": [
      "['Benz', 'Audi']\n"
     ]
    }
   ],
   "source": [
    "print(cars[3:5])"
   ]
  },
  {
   "cell_type": "code",
   "execution_count": null,
   "id": "bb33acf7",
   "metadata": {},
   "outputs": [],
   "source": []
  },
  {
   "cell_type": "code",
   "execution_count": null,
   "id": "e9788371",
   "metadata": {},
   "outputs": [],
   "source": [
    "# step count is used for skip counting "
   ]
  },
  {
   "cell_type": "code",
   "execution_count": 16,
   "id": "cb67e910",
   "metadata": {},
   "outputs": [
    {
     "name": "stdout",
     "output_type": "stream",
     "text": [
      "['Suzuki', 'Bmw', 'Audi']\n"
     ]
    }
   ],
   "source": [
    "print(cars[0:5:2])"
   ]
  },
  {
   "cell_type": "code",
   "execution_count": 17,
   "id": "fd2f4263",
   "metadata": {},
   "outputs": [
    {
     "name": "stdout",
     "output_type": "stream",
     "text": [
      "['Suzuki', 'Benz']\n"
     ]
    }
   ],
   "source": [
    "print(cars[0:5:3])"
   ]
  },
  {
   "cell_type": "code",
   "execution_count": null,
   "id": "31f16ffe",
   "metadata": {},
   "outputs": [],
   "source": []
  }
 ],
 "metadata": {
  "kernelspec": {
   "display_name": "Python 3 (ipykernel)",
   "language": "python",
   "name": "python3"
  },
  "language_info": {
   "codemirror_mode": {
    "name": "ipython",
    "version": 3
   },
   "file_extension": ".py",
   "mimetype": "text/x-python",
   "name": "python",
   "nbconvert_exporter": "python",
   "pygments_lexer": "ipython3",
   "version": "3.9.12"
  }
 },
 "nbformat": 4,
 "nbformat_minor": 5
}
