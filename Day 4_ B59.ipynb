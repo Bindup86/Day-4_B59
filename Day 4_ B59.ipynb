{
 "cells": [
  {
   "cell_type": "code",
   "execution_count": null,
   "id": "c5d11610",
   "metadata": {},
   "outputs": [],
   "source": [
    "# Introduction to LIST Data types"
   ]
  },
  {
   "cell_type": "code",
   "execution_count": null,
   "id": "dee4c5a2",
   "metadata": {},
   "outputs": [],
   "source": [
    "# List - Collection of items declared in a particular order. \n",
    "         It is classified as Mutable data type \n",
    "         Declared using [ ]"
   ]
  },
  {
   "cell_type": "code",
   "execution_count": 7,
   "id": "263337d7",
   "metadata": {},
   "outputs": [
    {
     "name": "stdout",
     "output_type": "stream",
     "text": [
      "['arvind', 'gopi', 'Liya', 'Rehaan']\n"
     ]
    }
   ],
   "source": [
    "# Example:\n",
    "students = ['arvind', 'gopi', 'Liya', 'Rehaan']\n",
    "print(students)            "
   ]
  },
  {
   "cell_type": "code",
   "execution_count": 8,
   "id": "e15c09ef",
   "metadata": {},
   "outputs": [
    {
     "data": {
      "text/plain": [
       "list"
      ]
     },
     "execution_count": 8,
     "metadata": {},
     "output_type": "execute_result"
    }
   ],
   "source": [
    "type(students)"
   ]
  },
  {
   "cell_type": "code",
   "execution_count": null,
   "id": "1cc59f33",
   "metadata": {},
   "outputs": [],
   "source": []
  },
  {
   "cell_type": "code",
   "execution_count": null,
   "id": "fb4e47bd",
   "metadata": {},
   "outputs": [],
   "source": [
    "# Indexing "
   ]
  },
  {
   "cell_type": "code",
   "execution_count": 9,
   "id": "40994677",
   "metadata": {},
   "outputs": [
    {
     "name": "stdout",
     "output_type": "stream",
     "text": [
      "Liya\n"
     ]
    }
   ],
   "source": [
    "print(students[2])"
   ]
  },
  {
   "cell_type": "code",
   "execution_count": null,
   "id": "3e38f362",
   "metadata": {},
   "outputs": [],
   "source": [
    "# Capitalize arvind & gopi"
   ]
  },
  {
   "cell_type": "code",
   "execution_count": 12,
   "id": "623f5e0e",
   "metadata": {},
   "outputs": [
    {
     "name": "stdout",
     "output_type": "stream",
     "text": [
      "Arvind\n"
     ]
    }
   ],
   "source": [
    "print(students[0].title())"
   ]
  },
  {
   "cell_type": "code",
   "execution_count": 13,
   "id": "9e0173eb",
   "metadata": {},
   "outputs": [
    {
     "name": "stdout",
     "output_type": "stream",
     "text": [
      "Gopi\n"
     ]
    }
   ],
   "source": [
    "print(students[1].title())"
   ]
  },
  {
   "cell_type": "code",
   "execution_count": null,
   "id": "8b6b4e97",
   "metadata": {},
   "outputs": [],
   "source": []
  },
  {
   "cell_type": "code",
   "execution_count": null,
   "id": "2c4a1efb",
   "metadata": {},
   "outputs": [],
   "source": [
    "# How to  Add, insert, modify and delete elements in a List\n",
    "# 1. append: this method helps to add a new element at the end of the list. "
   ]
  },
  {
   "cell_type": "code",
   "execution_count": 24,
   "id": "8caa4fac",
   "metadata": {},
   "outputs": [
    {
     "name": "stdout",
     "output_type": "stream",
     "text": [
      "['arvind', 'Liya', 'Rehaan', 'Sachin', 'Sachin', 'Tara', 'Tara']\n"
     ]
    }
   ],
   "source": [
    "students.append('Tara')\n",
    "print(students)"
   ]
  },
  {
   "cell_type": "code",
   "execution_count": null,
   "id": "abfd3f57",
   "metadata": {},
   "outputs": [],
   "source": []
  },
  {
   "cell_type": "code",
   "execution_count": null,
   "id": "15167b24",
   "metadata": {},
   "outputs": [],
   "source": [
    "# 2. insert: this method helps to add elements in betwee the list"
   ]
  },
  {
   "cell_type": "code",
   "execution_count": 17,
   "id": "28c26c21",
   "metadata": {},
   "outputs": [
    {
     "name": "stdout",
     "output_type": "stream",
     "text": [
      "['arvind', 'gopi', 'Charan', 'Liya', 'Rehaan', 'Sachin', 'Sachin', 'Tara']\n"
     ]
    }
   ],
   "source": [
    "students.insert(2, 'Charan')\n",
    "print(students)"
   ]
  },
  {
   "cell_type": "code",
   "execution_count": null,
   "id": "5f5b7cdb",
   "metadata": {},
   "outputs": [],
   "source": []
  },
  {
   "cell_type": "code",
   "execution_count": null,
   "id": "c0b2b984",
   "metadata": {},
   "outputs": [],
   "source": [
    "# 3. Modify the element in a list "
   ]
  },
  {
   "cell_type": "code",
   "execution_count": 20,
   "id": "47081666",
   "metadata": {},
   "outputs": [
    {
     "name": "stdout",
     "output_type": "stream",
     "text": [
      "['arvind', 'gopi', 'Ravi', 'Liya', 'Rehaan', 'Sachin', 'Sachin', 'Tara']\n"
     ]
    }
   ],
   "source": [
    "students[2]='Ravi'   # Index 2, Charan is replaced by Ravi\n",
    "print(students)"
   ]
  },
  {
   "cell_type": "code",
   "execution_count": null,
   "id": "b53c6b25",
   "metadata": {},
   "outputs": [],
   "source": []
  },
  {
   "cell_type": "code",
   "execution_count": null,
   "id": "c17b61f3",
   "metadata": {},
   "outputs": [],
   "source": [
    "# 4. del: this method deletes a particular element. "
   ]
  },
  {
   "cell_type": "code",
   "execution_count": 29,
   "id": "73826bb0",
   "metadata": {},
   "outputs": [
    {
     "name": "stdout",
     "output_type": "stream",
     "text": [
      "['arvind', 'Liya', 'Rehaan']\n"
     ]
    }
   ],
   "source": [
    "del students[3]\n",
    "print(students)"
   ]
  },
  {
   "cell_type": "code",
   "execution_count": null,
   "id": "ce1afcc3",
   "metadata": {},
   "outputs": [],
   "source": []
  }
 ],
 "metadata": {
  "kernelspec": {
   "display_name": "Python 3 (ipykernel)",
   "language": "python",
   "name": "python3"
  },
  "language_info": {
   "codemirror_mode": {
    "name": "ipython",
    "version": 3
   },
   "file_extension": ".py",
   "mimetype": "text/x-python",
   "name": "python",
   "nbconvert_exporter": "python",
   "pygments_lexer": "ipython3",
   "version": "3.9.12"
  }
 },
 "nbformat": 4,
 "nbformat_minor": 5
}
